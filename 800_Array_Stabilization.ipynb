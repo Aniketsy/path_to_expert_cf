{
  "nbformat": 4,
  "nbformat_minor": 0,
  "metadata": {
    "colab": {
      "provenance": []
    },
    "kernelspec": {
      "name": "python3",
      "display_name": "Python 3"
    },
    "language_info": {
      "name": "python"
    }
  },
  "cells": [
    {
      "cell_type": "markdown",
      "source": [
        "                B. Array Stabilization\n",
        "                time limit per test1 second\n",
        "                memory limit per test256 megabytes\n",
        "You are given an array a\n",
        " consisting of n\n",
        " integer numbers.\n",
        "\n",
        "Let instability of the array be the following value: maxi=1nai−mini=1nai\n",
        ".\n",
        "\n",
        "You have to remove exactly one element from this array to minimize instability of the resulting (n−1)\n",
        "-elements array. Your task is to calculate the minimum possible instability.\n",
        "\n",
        "Input\n",
        "The first line of the input contains one integer n\n",
        " (2≤n≤105\n",
        ") — the number of elements in the array a\n",
        ".\n",
        "\n",
        "The second line of the input contains n\n",
        " integers a1,a2,…,an\n",
        " (1≤ai≤105\n",
        ") — elements of the array a\n",
        ".\n",
        "\n",
        "Output\n",
        "Print one integer — the minimum possible instability of the array if you have to remove exactly one element from the array a\n",
        ".\n",
        "\n",
        "**Examples**\n",
        "\n",
        "Input\n",
        "\n",
        "4\n",
        "\n",
        "1 3 3 7\n",
        "\n",
        "Output\n",
        "\n",
        "\n",
        "2\n",
        "\n",
        "Input\n",
        "\n",
        "2\n",
        "\n",
        "1 100000\n",
        "\n",
        "Output\n",
        "\n",
        "0\n",
        "\n",
        "**Note**\n",
        "In the first example you can remove 7\n",
        " then instability of the remaining array will be 3−1=2\n",
        ".\n",
        "\n",
        "In the second example you can remove either 1\n",
        " or 100000\n",
        " then instability of the remaining array will be 100000−100000=0\n",
        " and 1−1=0\n",
        " correspondingly.\n",
        "\n",
        "\n"
      ],
      "metadata": {
        "id": "nwZM_TLLxgKI"
      }
    },
    {
      "cell_type": "code",
      "source": [
        "n = int(input())\n",
        "a = list(map(int, input().split()))\n",
        "\n",
        "a.sort()\n",
        "\n",
        "if n == 2:\n",
        "    print(0)\n",
        "\n",
        "else:\n",
        "\n",
        "    remove_min = a[-1] - a[1]\n",
        "\n",
        "    remove_max = a[-2] - a[0]\n",
        "    print(min(remove_min, remove_max))\n"
      ],
      "metadata": {
        "colab": {
          "base_uri": "https://localhost:8080/"
        },
        "id": "Xqt2b-RzxCgy",
        "outputId": "3a724a8c-6653-4360-c0e5-f8af7af9ac43"
      },
      "execution_count": 11,
      "outputs": [
        {
          "output_type": "stream",
          "name": "stdout",
          "text": [
            "2\n",
            "1 100000\n",
            "0\n"
          ]
        }
      ]
    }
  ]
}