{
  "nbformat": 4,
  "nbformat_minor": 0,
  "metadata": {
    "colab": {
      "provenance": []
    },
    "kernelspec": {
      "name": "python3",
      "display_name": "Python 3"
    },
    "language_info": {
      "name": "python"
    }
  },
  "cells": [
    {
      "cell_type": "markdown",
      "source": [
        "Your task is two update this list Day wise , just mention or add problem link .\n",
        "\n",
        "Also this task starts from `11-10-2025` and deadline is `30-12-2025`\n",
        "\n",
        "\n",
        "\n"
      ],
      "metadata": {
        "id": "pJ1kt6qZatC3"
      }
    },
    {
      "cell_type": "markdown",
      "source": [
        "Also this link includes , questions of leetcode"
      ],
      "metadata": {
        "id": "JgpzBWQ2bUnj"
      }
    },
    {
      "cell_type": "code",
      "execution_count": null,
      "metadata": {
        "id": "eEWfUNWOYx_M"
      },
      "outputs": [],
      "source": [
        "# First tag :\n",
        "\n",
        "# Binary Search\n",
        "------------ AT least 25 questions"
      ]
    },
    {
      "cell_type": "code",
      "source": [
        "# Second tag:\n",
        "\n",
        "# Brute force\n",
        "------------ AT least 25 questions\n"
      ],
      "metadata": {
        "id": "bL2S205gZOO7"
      },
      "execution_count": null,
      "outputs": []
    },
    {
      "cell_type": "code",
      "source": [
        " # Third tag\n",
        "\n",
        " # Constructive algorithm\n",
        " ------------ AT least 25 questions\n",
        ""
      ],
      "metadata": {
        "id": "CvjdQbM6ZbT7"
      },
      "execution_count": null,
      "outputs": []
    },
    {
      "cell_type": "code",
      "source": [
        "# Fourth tag\n",
        "\n",
        "# Data Struture"
      ],
      "metadata": {
        "id": "rxLBTv8hZsbr"
      },
      "execution_count": null,
      "outputs": []
    },
    {
      "cell_type": "code",
      "source": [
        "# dfs and similar"
      ],
      "metadata": {
        "id": "9X2YMrxPZ0GG"
      },
      "execution_count": null,
      "outputs": []
    },
    {
      "cell_type": "code",
      "source": [
        "# string"
      ],
      "metadata": {
        "id": "-AAf9QfjaW2n"
      },
      "execution_count": null,
      "outputs": []
    },
    {
      "cell_type": "code",
      "source": [
        "# Divide and conqueror"
      ],
      "metadata": {
        "id": "8mg8teUxZ7Cc"
      },
      "execution_count": null,
      "outputs": []
    },
    {
      "cell_type": "code",
      "source": [
        "# graph"
      ],
      "metadata": {
        "id": "rmN_eiyOaP2R"
      },
      "execution_count": null,
      "outputs": []
    },
    {
      "cell_type": "code",
      "source": [
        "# dp"
      ],
      "metadata": {
        "id": "H-h9IhpgZ-SY"
      },
      "execution_count": null,
      "outputs": []
    },
    {
      "cell_type": "code",
      "source": [
        "# maths"
      ],
      "metadata": {
        "id": "2M4GjxHMaO01"
      },
      "execution_count": null,
      "outputs": []
    },
    {
      "cell_type": "code",
      "source": [
        "# games"
      ],
      "metadata": {
        "id": "nuSqVvDkaCKT"
      },
      "execution_count": null,
      "outputs": []
    },
    {
      "cell_type": "code",
      "source": [
        "# sorting $ probability"
      ],
      "metadata": {
        "id": "DG1cDFXzab3O"
      },
      "execution_count": null,
      "outputs": []
    },
    {
      "cell_type": "code",
      "source": [
        "# greedy"
      ],
      "metadata": {
        "id": "2YlYHx6WaDZe"
      },
      "execution_count": null,
      "outputs": []
    },
    {
      "cell_type": "code",
      "source": [
        "# hashing"
      ],
      "metadata": {
        "id": "CelnU6-GaHvM"
      },
      "execution_count": null,
      "outputs": []
    },
    {
      "cell_type": "code",
      "source": [
        "# implementation"
      ],
      "metadata": {
        "id": "4xrILLQNaI2z"
      },
      "execution_count": null,
      "outputs": []
    },
    {
      "cell_type": "code",
      "source": [
        "# tree"
      ],
      "metadata": {
        "id": "oHDVjkTmaddF"
      },
      "execution_count": null,
      "outputs": []
    }
  ]
}