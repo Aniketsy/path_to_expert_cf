{
  "nbformat": 4,
  "nbformat_minor": 0,
  "metadata": {
    "colab": {
      "provenance": []
    },
    "kernelspec": {
      "name": "python3",
      "display_name": "Python 3"
    },
    "language_info": {
      "name": "python"
    }
  },
  "cells": [
    {
      "cell_type": "markdown",
      "source": [
        "                              **A. Team**\n",
        "\n",
        "                     time limit per test2 seconds\n",
        "                  memory limit per test256 megabytes\n",
        "\n",
        "\n",
        "One day three best friends Petya, Vasya and Tonya decided to form a team and take part in programming contests. Participants are usually offered several problems during programming contests. Long before the start the friends decided that they will implement a problem if at least two of them are sure about the solution. Otherwise, the friends won't write the problem's solution.\n",
        "\n",
        "This contest offers n problems to the participants. For each problem we know, which friend is sure about the solution. Help the friends find the number of problems for which they will write a solution.\n",
        "\n",
        "**Input **\n",
        "\n",
        "The first input line contains a single integer n (1 ≤ n ≤ 1000) — the number of problems in the contest. Then n lines contain three integers each, each integer is either 0 or 1. If the first number in the line equals 1, then Petya is sure about the problem's solution, otherwise he isn't sure. The second number shows Vasya's view on the solution, the third number shows Tonya's view. The numbers on the lines are separated by spaces.\n",
        "\n",
        "**Output**\n",
        "\n",
        "Print a single integer — the number of problems the friends will implement on the contest.\n",
        "\n",
        "**Examples**\n",
        "\n",
        "3\n",
        "\n",
        "1 1 0\n",
        "\n",
        "1 1 1\n",
        "\n",
        "1 0 0\n",
        "\n",
        "\n",
        "2\n",
        "\n",
        "1 0 0\n",
        "\n",
        "0 1 1\n",
        "\n",
        "\n",
        "1\n",
        "\n",
        "**Note**\n",
        "\n",
        "In the first sample Petya and Vasya are sure that they know how to solve the first problem and all three of them know how to solve the second problem. That means that they will write solutions for these problems. Only Petya is sure about the solution for the third problem, but that isn't enough, so the friends won't take it.\n",
        "\n",
        "In the second sample the friends will only implement the second problem, as Vasya and Tonya are sure about the solution.\n",
        "\n"
      ],
      "metadata": {
        "id": "2UDtb7jqqBLg"
      }
    },
    {
      "cell_type": "code",
      "execution_count": 3,
      "metadata": {
        "colab": {
          "base_uri": "https://localhost:8080/"
        },
        "id": "eoBwaWDPnY2V",
        "outputId": "344f0cc4-f74c-46fd-e03c-2fcc22b7d58e"
      },
      "outputs": [
        {
          "output_type": "stream",
          "name": "stdout",
          "text": [
            "3\n",
            "1 1 0\n",
            "1 1 1\n",
            "1 0 0\n",
            "2\n"
          ]
        }
      ],
      "source": [
        "n = int(input())\n",
        "count = 0\n",
        "\n",
        "for i in range(n):\n",
        "  a,b,c = map(int, input().split())\n",
        "  if a + b + c >= 2:\n",
        "    count +=1\n",
        "\n",
        "print (count)\n"
      ]
    },
    {
      "cell_type": "markdown",
      "source": [
        "**Alternative Method (Using List and Sum)**"
      ],
      "metadata": {
        "id": "vqlqc_j8q60t"
      }
    },
    {
      "cell_type": "code",
      "source": [
        "n = int(input())\n",
        "count = 0\n",
        "\n",
        "for _ in range(n):\n",
        "    friends = list(map(int, input().split()))\n",
        "    if sum(friends) >= 2:\n",
        "        count += 1\n",
        "\n",
        "print(count)\n"
      ],
      "metadata": {
        "colab": {
          "base_uri": "https://localhost:8080/"
        },
        "id": "Wk0FP5tEqiZy",
        "outputId": "f56b0267-4562-488f-a848-d019a664fcbc"
      },
      "execution_count": 4,
      "outputs": [
        {
          "output_type": "stream",
          "name": "stdout",
          "text": [
            "2\n",
            "1 0 0\n",
            "0 0 1\n",
            "0\n"
          ]
        }
      ]
    }
  ]
}