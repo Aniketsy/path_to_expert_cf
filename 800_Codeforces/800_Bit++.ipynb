{
  "nbformat": 4,
  "nbformat_minor": 0,
  "metadata": {
    "colab": {
      "provenance": []
    },
    "kernelspec": {
      "name": "python3",
      "display_name": "Python 3"
    },
    "language_info": {
      "name": "python"
    }
  },
  "cells": [
    {
      "cell_type": "markdown",
      "source": [
        "The classic programming language of Bitland is Bit++. This language is so peculiar and complicated.\n",
        "\n",
        "The language is that peculiar as it has exactly one variable, called x. Also, there are two operations:\n",
        "\n",
        "Operation ++ increases the value of variable x by 1.\n",
        "Operation -- decreases the value of variable x by 1.\n",
        "A statement in language Bit++ is a sequence, consisting of exactly one operation and one variable x. The statement is written without spaces, that is, it can only contain characters \"+\", \"-\", \"X\". Executing a statement means applying the operation it contains.\n",
        "\n",
        "A programme in Bit++ is a sequence of statements, each of them needs to be executed. Executing a programme means executing all the statements it contains.\n",
        "\n",
        "You're given a programme in language Bit++. The initial value of x is 0. Execute the programme and find its final value (the value of the variable when this programme is executed).\n",
        "\n",
        "**Input**\n",
        "The first line contains a single integer n (1 ≤ n ≤ 150) — the number of statements in the programme.\n",
        "\n",
        "Next n lines contain a statement each. Each statement contains exactly one operation (++ or --) and exactly one variable x (denoted as letter «X»). Thus, there are no empty statements. The operation and the variable can be written in any order.\n",
        "\n",
        "**Output**\n",
        "Print a single integer — the final value of x.\n",
        "\n",
        "Examples\n",
        "\n",
        "1\n",
        "\n",
        "++X\n",
        "\n",
        "**Output:**\n",
        "\n",
        "1\n",
        "\n",
        "2\n",
        "\n",
        "X++\n",
        "\n",
        "--X\n",
        "\n",
        "Output:\n",
        "\n",
        "0\n"
      ],
      "metadata": {
        "id": "XNsyPZecryBk"
      }
    },
    {
      "cell_type": "code",
      "execution_count": 8,
      "metadata": {
        "colab": {
          "base_uri": "https://localhost:8080/"
        },
        "id": "6uYo79MrpvVs",
        "outputId": "0251588a-aa8a-4b80-c8d9-6453ae6ffc76"
      },
      "outputs": [
        {
          "output_type": "stream",
          "name": "stdout",
          "text": [
            "1\n",
            "x++\n",
            "1\n"
          ]
        }
      ],
      "source": [
        "n = int(input())\n",
        "x = 0\n",
        "\n",
        "for i in range(n):\n",
        "  statement = input()\n",
        "  if \"++\" in statement:\n",
        "    x+=1\n",
        "  elif \"--\" in statement:\n",
        "    x-= 1\n",
        "\n",
        "print(x)"
      ]
    }
  ]
}