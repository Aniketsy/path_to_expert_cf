{
  "nbformat": 4,
  "nbformat_minor": 0,
  "metadata": {
    "colab": {
      "provenance": []
    },
    "kernelspec": {
      "name": "python3",
      "display_name": "Python 3"
    },
    "language_info": {
      "name": "python"
    }
  },
  "cells": [
    {
      "cell_type": "markdown",
      "source": [
        "                 B. Two Arrays And Swaps\n",
        "                 time limit per test1 second\n",
        "                memory limit per test256 megabytes\n",
        "\n",
        "You are given two arrays a\n",
        " and b\n",
        " both consisting of n\n",
        " positive (greater than zero) integers. You are also given an integer k\n",
        ".\n",
        "\n",
        "In one move, you can choose two indices i\n",
        " and j\n",
        " (1≤i,j≤n\n",
        ") and swap ai\n",
        " and bj\n",
        " (i.e. ai\n",
        " becomes bj\n",
        " and vice versa). Note that i\n",
        " and j\n",
        " can be equal or different (in particular, swap a2\n",
        " with b2\n",
        " or swap a3\n",
        " and b9\n",
        " both are acceptable moves).\n",
        "\n",
        "Your task is to find the maximum possible sum you can obtain in the array a\n",
        " if you can do no more than (i.e. at most) k\n",
        " such moves (swaps).\n",
        "\n",
        "You have to answer t\n",
        " independent test cases.\n",
        "\n",
        "**Input**\n",
        "\n",
        "The first line of the input contains one integer t\n",
        " (1≤t≤200\n",
        ") — the number of test cases. Then t\n",
        " test cases follow.\n",
        "\n",
        "The first line of the test case contains two integers n\n",
        " and k\n",
        " (1≤n≤30;0≤k≤n\n",
        ") — the number of elements in a\n",
        " and b\n",
        " and the maximum number of moves you can do. The second line of the test case contains n\n",
        " integers a1,a2,…,an\n",
        " (1≤ai≤30\n",
        "), where ai\n",
        " is the i\n",
        "-th element of a\n",
        ". The third line of the test case contains n\n",
        " integers b1,b2,…,bn\n",
        " (1≤bi≤30\n",
        "), where bi\n",
        " is the i\n",
        "-th element of b\n",
        ".\n",
        "\n",
        "**Output**\n",
        "\n",
        "For each test case, print the answer — the maximum possible sum you can obtain in the array a\n",
        " if you can do no more than (i.e. at most) k\n",
        " swaps.\n"
      ],
      "metadata": {
        "id": "4CANoU8B-7Lu"
      }
    },
    {
      "cell_type": "code",
      "execution_count": 3,
      "metadata": {
        "colab": {
          "base_uri": "https://localhost:8080/"
        },
        "id": "CMIVnqnc8tkL",
        "outputId": "7f927f39-0e54-4c9c-9316-1fd34f0854e4"
      },
      "outputs": [
        {
          "output_type": "stream",
          "name": "stdout",
          "text": [
            "1\n",
            "2 1\n",
            "1 2\n",
            "3 4\n",
            "6\n"
          ]
        }
      ],
      "source": [
        "t = int(input())\n",
        "for _ in range(t):\n",
        "    n, k = map(int, input().split())\n",
        "    a = list(map(int, input().split()))\n",
        "    b = list(map(int, input().split()))\n",
        "\n",
        "    a.sort()\n",
        "    b.sort(reverse=True)\n",
        "\n",
        "    ans = 0\n",
        "    for i in range(n):\n",
        "        if i < k:\n",
        "            ans += max(a[i], b[i])\n",
        "        else:\n",
        "            ans += a[i]\n",
        "\n",
        "    print(ans)\n"
      ]
    }
  ]
}