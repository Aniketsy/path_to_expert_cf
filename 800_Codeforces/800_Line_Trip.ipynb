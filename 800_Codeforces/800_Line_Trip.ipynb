{
  "nbformat": 4,
  "nbformat_minor": 0,
  "metadata": {
    "colab": {
      "provenance": []
    },
    "kernelspec": {
      "name": "python3",
      "display_name": "Python 3"
    },
    "language_info": {
      "name": "python"
    }
  },
  "cells": [
    {
      "cell_type": "markdown",
      "source": [
        "                    A. Line Trip\n",
        "                time limit per test2 seconds\n",
        "                 memory limit per test256 megabytes\n",
        "There is a road, which can be represented as a number line. You are located in the point 0\n",
        " of the number line, and you want to travel from the point 0\n",
        " to the point x\n",
        ", and back to the point 0\n",
        ".\n",
        "\n",
        "You travel by car, which spends 1\n",
        " liter of gasoline per 1\n",
        " unit of distance travelled. When you start at the point 0\n",
        ", your car is fully fueled (its gas tank contains the maximum possible amount of fuel).\n",
        "\n",
        "There are n\n",
        " gas stations, located in points a1,a2,…,an\n",
        ". When you arrive at a gas station, you fully refuel your car. Note that you can refuel only at gas stations, and there are no gas stations in points 0\n",
        " and x\n",
        ".\n",
        "\n",
        "You have to calculate the minimum possible volume of the gas tank in your car (in liters) that will allow you to travel from the point 0\n",
        " to the point x\n",
        " and back to the point 0\n",
        ".\n",
        "\n",
        "Input\n",
        "\n",
        "The first line contains one integer t\n",
        " (1≤t≤1000\n",
        ") — the number of test cases.\n",
        "\n",
        "Each test case consists of two lines:\n",
        "\n",
        "the first line contains two integers n\n",
        " and x\n",
        " (1≤n≤50\n",
        "; 2≤x≤100\n",
        ");\n",
        "the second line contains n\n",
        " integers a1,a2,…,an\n",
        " (0<a1<a2<⋯<an<x\n",
        ").\n",
        "\n",
        "Output\n",
        "\n",
        "For each test case, print one integer — the minimum possible volume of the gas tank in your car that will allow you to travel from the point 0\n",
        " to the point x\n",
        " and back.\n",
        "\n",
        "Example\n",
        "\n",
        "\n",
        "Input\n",
        "\n",
        "3\n",
        "\n",
        "3 7\n",
        "\n",
        "1 2 5\n",
        "\n",
        "3 6\n",
        "\n",
        "1 2 5\n",
        "1 10\n",
        "\n",
        "7\n",
        "\n",
        "Output\n",
        "\n",
        "4\n",
        "\n",
        "3\n",
        "\n",
        "7\n",
        "\n"
      ],
      "metadata": {
        "id": "fVlOG_vNQ4de"
      }
    },
    {
      "cell_type": "code",
      "execution_count": 4,
      "metadata": {
        "colab": {
          "base_uri": "https://localhost:8080/"
        },
        "id": "IIIBoBV5LXca",
        "outputId": "3173ebc0-9bde-42dc-a314-63a4127d4613"
      },
      "outputs": [
        {
          "output_type": "stream",
          "name": "stdout",
          "text": [
            "3\n",
            "3 7\n",
            "1 2 5\n",
            "4\n",
            "3 6\n",
            "1 2 5\n",
            "3\n",
            "1 10\n",
            "7\n",
            "7\n"
          ]
        }
      ],
      "source": [
        "t = int(input())\n",
        "\n",
        "for _ in range(t):\n",
        "  n, x= map(int,input().split())\n",
        "  stations = list(map(int,(input().split())))\n",
        "\n",
        "  prev = 0\n",
        "  ans = 0\n",
        "\n",
        "  for a in stations:\n",
        "    ans = max(ans, a - prev)\n",
        "    prev = a\n",
        "\n",
        "  ans = max(ans, 2* (x-prev))\n",
        "  print(ans)\n",
        ""
      ]
    }
  ]
}