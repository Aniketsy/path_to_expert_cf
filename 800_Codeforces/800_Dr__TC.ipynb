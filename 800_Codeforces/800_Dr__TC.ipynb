{
  "nbformat": 4,
  "nbformat_minor": 0,
  "metadata": {
    "colab": {
      "provenance": []
    },
    "kernelspec": {
      "name": "python3",
      "display_name": "Python 3"
    },
    "language_info": {
      "name": "python"
    }
  },
  "cells": [
    {
      "cell_type": "markdown",
      "source": [
        "In order to test his patients' intelligence, Dr. TC created the following test.\n",
        "\n",
        "First, he creates a binary string∗\n",
        " s\n",
        " having n\n",
        " characters. Then, he creates n\n",
        " binary strings a1,a2,…,an\n",
        ". It is known that ai\n",
        " is created by first copying s\n",
        ", then flipping the i\n",
        "'th character (1\n",
        " becomes 0\n",
        " and vice versa). After creating all n\n",
        " strings, he arranges them into a grid where the i\n",
        "'th row is ai\n",
        ".\n",
        "\n",
        "For example,\n",
        "\n",
        "If s=101\n",
        ", a=[001,111,100]\n",
        ".\n",
        "If s=0000\n",
        ", a=[1000,0100,0010,0001]\n",
        ".\n",
        "The patient needs to count the number of 1\n",
        "s written on the board in less than a second. Can you pass the test?\n",
        "\n",
        "∗\n",
        "A binary string is a string that only consists of characters 1\n",
        " and 0\n",
        ".\n",
        "\n",
        "**Input**\n",
        "\n",
        "The first line of the input consists of a single integer t\n",
        " (1≤t≤1000\n",
        ") — the number of test cases.\n",
        "\n",
        "The first line of each test case contains a single integer n\n",
        " (1≤n≤10\n",
        ") — the length of the binary string s\n",
        ".\n",
        "\n",
        "The second line of each test case contains a single binary string s\n",
        " of size n\n",
        ".\n",
        "\n",
        "**Output**\n",
        "\n",
        "For each test case, output a single integer, the number of 1\n",
        "s on the board."
      ],
      "metadata": {
        "id": "WJF-HiGRV0Oz"
      }
    },
    {
      "cell_type": "code",
      "source": [
        "def solve():\n",
        "    n = int(input())\n",
        "    s = input()\n",
        "    ans = 0\n",
        "    for x in s:\n",
        "        if x == '0':\n",
        "            ans += 1\n",
        "        else:\n",
        "            ans += n - 1\n",
        "    print(ans)\n",
        "\n",
        "t = int(input())\n",
        "for _ in range(t):\n",
        "    solve()\n"
      ],
      "metadata": {
        "colab": {
          "base_uri": "https://localhost:8080/"
        },
        "id": "lwOfrGzdVYkF",
        "outputId": "d6769fd5-2e30-46a5-9c1f-d2d81faead95"
      },
      "execution_count": 2,
      "outputs": [
        {
          "output_type": "stream",
          "name": "stdout",
          "text": [
            "5\n",
            "3\n",
            "101\n",
            "5\n",
            "1\n",
            "1\n",
            "0\n",
            "5\n",
            "00000\n",
            "5\n",
            "2\n",
            "11\n",
            "2\n",
            "3\n",
            "010\n",
            "4\n"
          ]
        }
      ]
    }
  ]
}