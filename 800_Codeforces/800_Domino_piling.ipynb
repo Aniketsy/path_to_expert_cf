{
  "nbformat": 4,
  "nbformat_minor": 0,
  "metadata": {
    "colab": {
      "provenance": []
    },
    "kernelspec": {
      "name": "python3",
      "display_name": "Python 3"
    },
    "language_info": {
      "name": "python"
    }
  },
  "cells": [
    {
      "cell_type": "markdown",
      "source": [
        "You are given a rectangular board of M × N squares. Also you are given an unlimited number of standard domino pieces of 2 × 1 squares. You are allowed to rotate the pieces. You are asked to place as many dominoes as possible on the board so as to meet the following conditions:\n",
        "\n",
        "1. Each domino completely covers two squares.\n",
        "\n",
        "2. No two dominoes overlap.\n",
        "\n",
        "3. Each domino lies entirely inside the board. It is allowed to touch the edges of the board.\n",
        "\n",
        "Find the maximum number of dominoes, which can be placed under these restrictions.\n",
        "\n",
        "**Input**\n",
        "In a single line you are given two integers M and N — board sizes in squares (1 ≤ M ≤ N ≤ 16).\n",
        "\n",
        "**Output**\n",
        "Output one number — the maximal number of dominoes, which can be placed.\n",
        "\n",
        "Examples\n",
        "\n",
        "**Input**\n",
        "\n",
        "2 4\n",
        "\n",
        "**Output**\n",
        "\n",
        "4\n",
        "\n",
        "**Input**\n",
        "\n",
        "3 3\n",
        "\n",
        "**Output**\n",
        "\n",
        "4\n"
      ],
      "metadata": {
        "id": "ru90Z3m_Lk-i"
      }
    },
    {
      "cell_type": "code",
      "execution_count": 4,
      "metadata": {
        "colab": {
          "base_uri": "https://localhost:8080/"
        },
        "id": "fwVKtw15EwgH",
        "outputId": "b5f85070-0e13-48e0-ebcd-3c3585cd2bbd"
      },
      "outputs": [
        {
          "output_type": "stream",
          "name": "stdout",
          "text": [
            "3 3\n",
            "4\n"
          ]
        }
      ],
      "source": [
        "m, n = map(int, input().split())\n",
        "\n",
        "max_val = m * n\n",
        "\n",
        "print(max_val // 2)"
      ]
    }
  ]
}