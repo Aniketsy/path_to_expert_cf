{
  "nbformat": 4,
  "nbformat_minor": 0,
  "metadata": {
    "colab": {
      "provenance": []
    },
    "kernelspec": {
      "name": "python3",
      "display_name": "Python 3"
    },
    "language_info": {
      "name": "python"
    }
  },
  "cells": [
    {
      "cell_type": "markdown",
      "source": [
        "**Way Too Long Word**\n",
        "\n",
        "Sometimes some words like \"localization\" or \"internationalization\" are so long that writing them many times in one text is quite tiresome.\n",
        "\n",
        "Let's consider a word too long, if its length is strictly more than 10 characters. All too long words should be replaced with a special abbreviation.\n",
        "\n",
        "This abbreviation is made like this: we write down the first and the last letter of a word and between them we write the number of letters between the first and the last letters. That number is in decimal system and doesn't contain any leading zeroes.\n",
        "\n",
        "Thus, \"localization\" will be spelt as \"l10n\", and \"internationalization» will be spelt as \"i18n\".\n",
        "\n",
        "You are suggested to automatize the process of changing the words with abbreviations. At that all too long words should be replaced by the abbreviation and the words that are not too long should not undergo any changes.\n",
        "\n",
        "**Input**\n",
        "\n",
        "The first line contains an integer n (1 ≤ n ≤ 100). Each of the following n lines contains one word. All the words consist of lowercase Latin letters and possess the lengths of from 1 to 100 characters.\n",
        "\n",
        "**Output**\n",
        "\n",
        "Print n lines. The i-th line should contain the result of replacing of the i-th word from the input data.\n",
        "\n",
        "**Examples**\n",
        "\n",
        "**Input**\n",
        "\n",
        "4\n",
        "\n",
        "word\n",
        "\n",
        "localization\n",
        "\n",
        "internationalization\n",
        "\n",
        "pneumonoultramicroscopicsilicovolcanoconiosis\n",
        "\n",
        "**Output**\n",
        "\n",
        "word\n",
        "\n",
        "l10n\n",
        "\n",
        "i18n\n",
        "\n",
        "p43s\n"
      ],
      "metadata": {
        "id": "WdYJrynJ168I"
      }
    },
    {
      "cell_type": "code",
      "execution_count": 25,
      "metadata": {
        "colab": {
          "base_uri": "https://localhost:8080/"
        },
        "id": "4zjxYNFos_ND",
        "outputId": "0e4a6381-6007-4607-8fd5-c20307909a2b"
      },
      "outputs": [
        {
          "output_type": "stream",
          "name": "stdout",
          "text": [
            "4\n",
            "word\n",
            "localization\n",
            "internationalization\n",
            "pnemonohfjffjkdkluoijhggfdfjhjjgkg\n",
            "word\n",
            "l10n\n",
            "i18n\n",
            "p32g\n"
          ]
        }
      ],
      "source": [
        "n = int(input())\n",
        "inputs_list = []\n",
        "for i in range(n):\n",
        "  m = str(input())\n",
        "  inputs_list.append(m)\n",
        "\n",
        "for m in inputs_list:\n",
        "  if len(m)>10:\n",
        "    char_count = str(len(m) - 2)\n",
        "    print(m[0]+char_count+m[-1])\n",
        "  else:\n",
        "    print(m)\n",
        ""
      ]
    }
  ]
}