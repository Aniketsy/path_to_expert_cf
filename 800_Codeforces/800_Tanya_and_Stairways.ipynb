{
  "nbformat": 4,
  "nbformat_minor": 0,
  "metadata": {
    "colab": {
      "provenance": []
    },
    "kernelspec": {
      "name": "python3",
      "display_name": "Python 3"
    },
    "language_info": {
      "name": "python"
    }
  },
  "cells": [
    {
      "cell_type": "markdown",
      "source": [
        "Little girl Tanya climbs the stairs inside a multi-storey building. Every time Tanya climbs a stairway, she starts counting steps from 1\n",
        " to the number of steps in this stairway. She speaks every number aloud. For example, if she climbs two stairways, the first of which contains 3\n",
        " steps, and the second contains 4\n",
        " steps, she will pronounce the numbers 1,2,3,1,2,3,4\n",
        ".\n",
        "\n",
        "You are given all the numbers pronounced by Tanya. How many stairways did she climb? Also, output the number of steps in each stairway.\n",
        "\n",
        "The given sequence will be a valid sequence that Tanya could have pronounced when climbing one or more stairways.\n",
        "\n",
        "Input\n",
        "The first line contains n\n",
        " (1≤n≤1000\n",
        ") — the total number of numbers pronounced by Tanya.\n",
        "\n",
        "The second line contains integers a1,a2,…,an\n",
        " (1≤ai≤1000\n",
        ") — all the numbers Tanya pronounced while climbing the stairs, in order from the first to the last pronounced number. Passing a stairway with x\n",
        " steps, she will pronounce the numbers 1,2,…,x\n",
        " in that order.\n",
        "\n",
        "The given sequence will be a valid sequence that Tanya could have pronounced when climbing one or more stairways.\n",
        "\n",
        "Output\n",
        "In the first line, output t\n",
        " — the number of stairways that Tanya climbed. In the second line, output t\n",
        " numbers — the number of steps in each stairway she climbed. Write the numbers in the correct order of passage of the stairways.\n",
        "\n",
        "\n",
        "**Examples**\n",
        "\n",
        "**Input**\n",
        "\n",
        "7\n",
        "\n",
        "1 2 3 1 2 3 4\n",
        "\n",
        "**Output**\n",
        "\n",
        "2\n",
        "\n",
        "3 4\n",
        "\n",
        "**Input**\n",
        "\n",
        "4\n",
        "\n",
        "1 1 1 1\n",
        "\n",
        "**Output**\n",
        "\n",
        "4\n",
        "\n",
        "1 1 1 1\n",
        "\n",
        "\n",
        "**Input**\n",
        "\n",
        "5\n",
        "\n",
        "1 2 3 4 5\n",
        "\n",
        "**Output**\n",
        "\n",
        "1\n",
        "\n",
        "5\n",
        "\n",
        "**Input**\n",
        "\n",
        "5\n",
        "\n",
        "1 2 1 2 1\n",
        "\n",
        "\n",
        "**Output**\n",
        "\n",
        "3\n",
        "\n",
        "2 2 1\n",
        "\n"
      ],
      "metadata": {
        "id": "HctTFX7dfUf5"
      }
    },
    {
      "cell_type": "code",
      "source": [
        "n = int(input())\n",
        "\n",
        "arr = list(map(int, input().split()))\n",
        "\n",
        "steps = []\n",
        "\n",
        "previous_number = -1\n",
        "\n",
        "for current_number in arr:\n",
        "  if current_number == 1 and previous_number != -1:\n",
        "\n",
        "    steps.append(previous_number)\n",
        "  previous_number = current_number\n",
        "\n",
        "steps.append(previous_number)\n",
        "\n",
        "print(len(steps))\n",
        "print(*steps)"
      ],
      "metadata": {
        "colab": {
          "base_uri": "https://localhost:8080/"
        },
        "id": "RufXZS4Pckt7",
        "outputId": "e719f7c6-6bb6-4a4c-a3be-d44ab1ef9e57"
      },
      "execution_count": 7,
      "outputs": [
        {
          "output_type": "stream",
          "name": "stdout",
          "text": [
            "3\n",
            "2 2 1\n",
            "2\n",
            "2 1\n"
          ]
        }
      ]
    }
  ]
}