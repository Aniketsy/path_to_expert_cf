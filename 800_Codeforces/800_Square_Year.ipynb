{
  "nbformat": 4,
  "nbformat_minor": 0,
  "metadata": {
    "colab": {
      "provenance": []
    },
    "kernelspec": {
      "name": "python3",
      "display_name": "Python 3"
    },
    "language_info": {
      "name": "python"
    }
  },
  "cells": [
    {
      "cell_type": "markdown",
      "source": [
        "One can notice the following remarkable mathematical fact: the number 2025\n",
        " can be represented as (20+25)2\n",
        ".\n",
        "\n",
        "You are given a year represented by a string s\n",
        ", consisting of exactly 4\n",
        " characters. Thus, leading zeros are allowed in the year representation. For example, \"0001\", \"0185\", \"1375\" are valid year representations. You need to express it in the form (a+b)2\n",
        ", where a\n",
        " and b\n",
        " are non-negative integers, or determine that it is impossible.\n",
        "\n",
        "For example, if s\n",
        " = \"0001\", you can choose a=0\n",
        ", b=1\n",
        ", and write the year as (0+1)2=1\n",
        ".\n",
        "\n",
        "**Input**\n",
        "\n",
        "The first line of the input contains a single integer t\n",
        " (1≤t≤104\n",
        ") — the number of test cases.\n",
        "\n",
        "The following lines describe the test cases.\n",
        "\n",
        "The only line of each test case contains a string s\n",
        ", consisting of exactly 4\n",
        " characters. Each character is a digit from 0\n",
        " to 9\n",
        ".\n",
        "\n",
        "**Output**\n",
        "\n",
        "On a separate line for each test case, output:\n",
        "\n",
        "Two numbers a\n",
        " and b\n",
        " (a,b≥0\n",
        ") such that (a+b)2=s\n",
        ", if they exist. If there are multiple suitable pairs, you may output any of them.\n",
        "The number −1\n",
        " otherwise.\n",
        "Example\n",
        "\n",
        "**Input**\n",
        "\n",
        "5\n",
        "\n",
        "0001\n",
        "\n",
        "1001\n",
        "\n",
        "1000\n",
        "\n",
        "4900\n",
        "\n",
        "2025\n",
        "\n",
        "**Output**\n",
        "\n",
        "0 1\n",
        "\n",
        "-1\n",
        "\n",
        "-1\n",
        "\n",
        "34 36\n",
        "\n",
        "20 25"
      ],
      "metadata": {
        "id": "mIsLkjHiCf0S"
      }
    },
    {
      "cell_type": "code",
      "source": [
        "import math\n",
        "\n",
        "def solve(n):\n",
        "    sq = math.ceil(n ** 0.5)\n",
        "    if sq * sq == n:\n",
        "        return f\"0 {sq}\"\n",
        "    else:\n",
        "        return \"-1\"\n",
        "\n",
        "t = int(input())\n",
        "inputs = [int(input()) for _ in range(t)]\n",
        "results = [solve(n) for n in inputs]\n",
        "\n",
        "for res in results:\n",
        "    print(res)\n"
      ],
      "metadata": {
        "colab": {
          "base_uri": "https://localhost:8080/"
        },
        "id": "2XfFozteAiLR",
        "outputId": "0ef0d0cf-1ade-47a3-d86f-e73e76c4e1ec"
      },
      "execution_count": null,
      "outputs": [
        {
          "output_type": "stream",
          "name": "stdout",
          "text": [
            "5\n",
            "0001\n",
            "1001\n",
            "1000\n",
            "4900\n",
            "2025\n",
            "0 1\n",
            "-1\n",
            "-1\n",
            "0 70\n",
            "0 45\n"
          ]
        }
      ]
    }
  ]
}