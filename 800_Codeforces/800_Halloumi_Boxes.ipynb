{
  "nbformat": 4,
  "nbformat_minor": 0,
  "metadata": {
    "colab": {
      "provenance": []
    },
    "kernelspec": {
      "name": "python3",
      "display_name": "Python 3"
    },
    "language_info": {
      "name": "python"
    }
  },
  "cells": [
    {
      "cell_type": "markdown",
      "source": [
        "              A. Halloumi Boxes\n",
        "            time limit per test1 second\n",
        "             memory limit per test256 megabytes\n",
        "Theofanis is busy after his last contest, as now, he has to deliver many halloumis all over the world. He stored them inside n\n",
        " boxes and each of which has some number ai\n",
        " written on it.\n",
        "\n",
        "He wants to sort them in non-decreasing order based on their number, however, his machine works in a strange way. It can only reverse any subarray†\n",
        " of boxes with length at most k\n",
        ".\n",
        "\n",
        "Find if it's possible to sort the boxes using any number of reverses.\n",
        "\n",
        "†\n",
        " Reversing a subarray means choosing two indices i\n",
        " and j\n",
        " (where 1≤i≤j≤n\n",
        ") and changing the array a1,a2,…,an\n",
        " to a1,a2,…,ai−1,aj,aj−1,…,ai,aj+1,…,an−1,an\n",
        ". The length of the subarray is then j−i+1\n",
        ".\n",
        "\n",
        "\n",
        "Input **bold text**\n",
        "\n",
        "The first line contains a single integer t\n",
        " (1≤t≤100\n",
        ") — the number of test cases.\n",
        "\n",
        "Each test case consists of two lines.\n",
        "\n",
        "The first line of each test case contains two integers n\n",
        " and k\n",
        " (1≤k≤n≤100\n",
        ") — the number of boxes and the length of the maximum reverse that Theofanis can make.\n",
        "\n",
        "The second line contains n\n",
        " integers a1,a2,…,an\n",
        " (1≤ai≤109\n",
        ") — the number written on each box.\n",
        "\n",
        "Output\n",
        "**bold text**\n",
        "For each test case, print YES (case-insensitive), if the array can be sorted in non-decreasing order, or NO (case-insensitive) otherwise.\n",
        "\n",
        "Example\n",
        "\n",
        "**Input**\n",
        "\n",
        "5\n",
        "\n",
        "3 2\n",
        "\n",
        "1 2 3\n",
        "\n",
        "3 1\n",
        "\n",
        "9 9 9\n",
        "\n",
        "4 4\n",
        "\n",
        "6 4 2 1\n",
        "\n",
        "4 3\n",
        "\n",
        "10 3 830 14\n",
        "\n",
        "2 1\n",
        "\n",
        "3 1\n",
        "\n",
        "**Output**\n",
        "\n",
        "YES\n",
        "\n",
        "YES\n",
        "\n",
        "YES\n",
        "\n",
        "YES\n",
        "\n",
        "NO\n",
        "\n",
        "\n",
        "Note\n",
        "\n",
        "In the first two test cases, the boxes are already sorted in non-decreasing order.\n",
        "\n",
        "In the third test case, we can reverse the whole array.\n",
        "\n",
        "In the fourth test case, we can reverse the first two boxes and the last two boxes.\n",
        "\n",
        "In the fifth test case, it can be shown that it's impossible to sort the boxes.\n"
      ],
      "metadata": {
        "id": "bFhX0dxTLgKG"
      }
    },
    {
      "cell_type": "code",
      "execution_count": 5,
      "metadata": {
        "colab": {
          "base_uri": "https://localhost:8080/"
        },
        "id": "iQIFb24fEsvv",
        "outputId": "f0c273cd-1444-4302-d4e1-a7a1a95d1515"
      },
      "outputs": [
        {
          "output_type": "stream",
          "name": "stdout",
          "text": [
            "5\n",
            "3 2\n",
            "1 2 3\n",
            "Yes\n",
            "3 1\n",
            "9 9 9\n",
            "Yes\n",
            "4 4\n",
            "6 4 2 1\n",
            "Yes\n",
            "4 3\n",
            "10 3 830 14\n",
            "Yes\n",
            "2 1\n",
            "3 1\n",
            "No\n"
          ]
        }
      ],
      "source": [
        "t = int(input())\n",
        "\n",
        "for _ in range(t):\n",
        "  n, k= map(int,input().split())\n",
        "  a = list(map(int,(input().split())))\n",
        "\n",
        "  if k > 1 or all (a[i] <= a[i+1] for i in range(n-1)):\n",
        "    print(\"Yes\")\n",
        "  else:\n",
        "    print(\"No\")\n"
      ]
    }
  ]
}