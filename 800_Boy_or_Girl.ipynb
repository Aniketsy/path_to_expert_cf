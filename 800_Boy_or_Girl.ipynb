{
  "nbformat": 4,
  "nbformat_minor": 0,
  "metadata": {
    "colab": {
      "provenance": []
    },
    "kernelspec": {
      "name": "python3",
      "display_name": "Python 3"
    },
    "language_info": {
      "name": "python"
    }
  },
  "cells": [
    {
      "cell_type": "markdown",
      "source": [
        "              A. Boy or Girl\n",
        "                time limit per test1 second\n",
        "              memory limit per test256 megabytes\n",
        "Those days, many boys use beautiful girls' photos as avatars in forums. So it is pretty hard to tell the gender of a user at the first glance. Last year, our hero went to a forum and had a nice chat with a beauty (he thought so). After that they talked very often and eventually they became a couple in the network.\n",
        "\n",
        "But yesterday, he came to see \"her\" in the real world and found out \"she\" is actually a very strong man! Our hero is very sad and he is too tired to love again now. So he came up with a way to recognize users' genders by their user names.\n",
        "\n",
        "This is his method: if the number of distinct characters in one's user name is odd, then he is a male, otherwise she is a female. You are given the string that denotes the user name, please help our hero to determine the gender of this user by his method.\n",
        "\n",
        "**Input**\n",
        "\n",
        "The first line contains a non-empty string, that contains only lowercase English letters — the user name. This string contains at most 100 letters.\n",
        "\n",
        "**Output**\n",
        "\n",
        "If it is a female by our hero's method, print \"CHAT WITH HER!\" (without the quotes), otherwise, print \"IGNORE HIM!\" (without the quotes).\n",
        "\n",
        "**Examples**\n",
        "\n",
        "**Input**\n",
        "\n",
        "wjmzbmr\n",
        "\n",
        "\n",
        "\n",
        "**Output**\n",
        "\n",
        "CHAT WITH HER!\n",
        "\n",
        "**Input**\n",
        "\n",
        "xiaodao\n",
        "\n",
        "**Output**\n",
        "\n",
        "\n",
        "IGNORE HIM!\n",
        "\n",
        "**Input**\n",
        "\n",
        "sevenkplus\n",
        "\n",
        "**Output**\n",
        "\n",
        "CHAT WITH HER!\n",
        "\n",
        "**Note**\n",
        "For the first example. There are 6 distinct characters in \"wjmzbmr\". These characters are: \"w\", \"j\", \"m\", \"z\", \"b\", \"r\". So wjmzbmr is a female and you should print \"CHAT WITH HER!\".\n",
        "\n"
      ],
      "metadata": {
        "id": "IAo7Qs-Dzmv1"
      }
    },
    {
      "cell_type": "code",
      "execution_count": 2,
      "metadata": {
        "colab": {
          "base_uri": "https://localhost:8080/"
        },
        "id": "Q7j8qx6Jx3d5",
        "outputId": "ed1ebc19-c1b9-4f40-ba56-c7213afc9d89"
      },
      "outputs": [
        {
          "output_type": "stream",
          "name": "stdout",
          "text": [
            "xiaodao\n",
            "IGNORE HIM!\n"
          ]
        }
      ],
      "source": [
        "x = input().strip()\n",
        "\n",
        "unique_char = set(x)\n",
        "count = len(unique_char)\n",
        "\n",
        "if count % 2 == 0:\n",
        "    print(\"CHAT WITH HER!\")\n",
        "else:\n",
        "    print(\"IGNORE HIM!\")"
      ]
    }
  ]
}