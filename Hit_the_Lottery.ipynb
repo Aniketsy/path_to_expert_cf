{
  "nbformat": 4,
  "nbformat_minor": 0,
  "metadata": {
    "colab": {
      "provenance": []
    },
    "kernelspec": {
      "name": "python3",
      "display_name": "Python 3"
    },
    "language_info": {
      "name": "python"
    }
  },
  "cells": [
    {
      "cell_type": "markdown",
      "source": [
        "Allen has a LOT of money. He has n\n",
        " dollars in the bank. For security reasons, he wants to withdraw it in cash (we will not disclose the reasons here). The denominations for dollar bills are 1\n",
        ", 5\n",
        ", 10\n",
        ", 20\n",
        ", 100\n",
        ". What is the minimum number of bills Allen could receive after withdrawing his entire balance?\n",
        "\n",
        "Input\n",
        "The first and only line of input contains a single integer n\n",
        " (1≤n≤109\n",
        ").\n",
        "\n",
        "Output\n",
        "Output the minimum number of bills that Allen could receive.\n",
        "\n",
        "Examples\n",
        "\n",
        "125\n",
        "\n",
        "3\n",
        "\n",
        "43\n",
        "\n",
        "5\n",
        "\n",
        "1000000000\n",
        "\n",
        "10000000\n",
        "Note\n",
        "\n",
        "In the first sample case, Allen can withdraw this with a 100\n",
        " dollar bill, a 20\n",
        " dollar bill, and a 5\n",
        " dollar bill. There is no way for Allen to receive 125\n",
        " dollars in one or two bills.\n",
        "\n",
        "In the second sample case, Allen can withdraw two 20\n",
        " dollar bills and three 1\n",
        " dollar bills.\n",
        "\n",
        "In the third sample case, Allen can withdraw 100000000\n",
        " (ten million!) 100\n",
        " dollar bills.\n",
        "\n",
        "\n"
      ],
      "metadata": {
        "id": "D38jP3XUmw53"
      }
    },
    {
      "cell_type": "code",
      "execution_count": 4,
      "metadata": {
        "colab": {
          "base_uri": "https://localhost:8080/"
        },
        "id": "JiIjgJeJ1tvt",
        "outputId": "0e1eca14-5a2c-442f-92e3-57a4dd79ec04"
      },
      "outputs": [
        {
          "output_type": "stream",
          "name": "stdout",
          "text": [
            "43\n",
            "5\n"
          ]
        }
      ],
      "source": [
        "n = int(input())\n",
        "\n",
        "coins = [100, 20, 10, 5, 1]\n",
        "count = 0\n",
        "\n",
        "for coin in coins:\n",
        "  count += n // coin\n",
        "  n %= coin\n",
        "\n",
        "print(count)\n",
        "\n"
      ]
    }
  ]
}