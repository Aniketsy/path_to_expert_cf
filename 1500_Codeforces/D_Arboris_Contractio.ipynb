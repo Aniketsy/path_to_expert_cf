{
  "nbformat": 4,
  "nbformat_minor": 0,
  "metadata": {
    "colab": {
      "provenance": []
    },
    "kernelspec": {
      "name": "python3",
      "display_name": "Python 3"
    },
    "language_info": {
      "name": "python"
    }
  },
  "cells": [
    {
      "cell_type": "markdown",
      "source": [
        "                          D. Arboris Contractio\n",
        "\n",
        "\n",
        "Kagari is preparing to archive a tree, and she knows the cost of doing so will depend on its diameter∗\n",
        ". To keep the expense down, her goal is to shrink the diameter as much as possible first. She can perform the following operation on the tree:\n",
        "\n",
        "Choose two vertices s\n",
        " and t\n",
        "\n",
        ". Let the sequence of vertices on the simple path†\n",
        " from s\n",
        " to t\n",
        " be v0,v1,…,vk\n",
        ", where v0=s\n",
        " and vk=t\n",
        ".\n",
        "\n",
        "Remove all edges along the path. In other words, remove edges (v0,v1),(v1,v2),…,(vk−1,vk)\n",
        ".\n",
        "Connect vertices v1,v2,…,vk\n",
        " directly to v0\n",
        "\n",
        ". In other words, add edges (v0,v1),(v0,v2),…,(v0,vk)\n",
        ".\n",
        "It can be shown that the graph is still a tree after the operation.\n",
        "\n",
        "Help her determine the minimum number of operations required to achieve the minimal diameter."
      ],
      "metadata": {
        "id": "E8nKDf_LZvrw"
      }
    },
    {
      "cell_type": "code",
      "execution_count": null,
      "metadata": {
        "id": "QrsZw5PRZuH7"
      },
      "outputs": [],
      "source": [
        "def solve():\n",
        "    n = int(input())\n",
        "    g = [[] for _ in range(n)]\n",
        "    deg = [0] * n\n",
        "    for _ in range(n - 1):\n",
        "        u, v = map(int, input().split())\n",
        "        u -= 1; v -= 1\n",
        "        g[u].append(v)\n",
        "        g[v].append(u)\n",
        "        deg[u] += 1\n",
        "        deg[v] += 1\n",
        "    if n <= 3:\n",
        "        return 0\n",
        "\n",
        "    c1 = sum(deg[u] == 1 for u in range(n))\n",
        "    mx = max(sum(deg[v] == 1 for v in g[u]) for u in range(n))\n",
        "    return c1 - mx\n",
        "\n",
        "t = int(input())\n",
        "for _ in range(t):\n",
        "    print(solve())\n"
      ]
    }
  ]
}