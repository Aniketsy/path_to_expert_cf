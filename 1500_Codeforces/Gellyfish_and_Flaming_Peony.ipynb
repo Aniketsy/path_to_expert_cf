{
  "nbformat": 4,
  "nbformat_minor": 0,
  "metadata": {
    "colab": {
      "provenance": []
    },
    "kernelspec": {
      "name": "python3",
      "display_name": "Python 3"
    },
    "language_info": {
      "name": "python"
    }
  },
  "cells": [
    {
      "cell_type": "markdown",
      "source": [
        "                A. Gellyfish and Flaming Peony\n",
        "\n",
        "Gellyfish hates math problems, but she has to finish her math homework:\n",
        "\n",
        "Gellyfish is given an array of n\n",
        " positive integers a1,a2,…,an\n",
        ".\n",
        "\n",
        "She needs to do the following two-step operation until all elements of a\n",
        " are equal:\n",
        "\n",
        "Select two indexes i\n",
        ", j\n",
        " satisfying 1≤i,j≤n\n",
        " and i≠j\n",
        ".\n",
        "Replace ai\n",
        " with gcd(ai,aj)\n",
        ".\n",
        "Now, Gellyfish asks you for the minimum number of operations to achieve her goal.\n",
        "\n",
        "It can be proven that Gellyfish can always achieve her goal."
      ],
      "metadata": {
        "id": "0_g6iThPCkmF"
      }
    },
    {
      "cell_type": "code",
      "source": [
        "import math\n",
        "\n",
        "t = int(input())\n",
        "for _ in range(t):\n",
        "    n = int(input())\n",
        "    a = list(map(int, input().split()))\n",
        "\n",
        "    g = 0\n",
        "    for x in a:\n",
        "        g = math.gcd(g, x)\n",
        "\n",
        "    cnt = a.count(g)\n",
        "\n",
        "    if cnt > 0:\n",
        "        print(n - cnt)\n",
        "    else:\n",
        "        INF = float(\"inf\")\n",
        "        dp = [INF] * 5001\n",
        "        dp[0] = 0\n",
        "        for x in a:\n",
        "            ndp = [INF] * 5001\n",
        "            for j in range(5001):\n",
        "                if dp[j] != INF:\n",
        "                    v = math.gcd(j, x)\n",
        "                    ndp[v] = min(ndp[v], dp[j] + 1)\n",
        "            for j in range(5001):\n",
        "                dp[j] = min(dp[j], ndp[j])\n",
        "\n",
        "        print(n - 1 + dp[g] - 1)\n"
      ],
      "metadata": {
        "colab": {
          "base_uri": "https://localhost:8080/"
        },
        "id": "uXIB_TgW_ClR",
        "outputId": "368e3071-4619-4507-d0ce-d8a15249eb27"
      },
      "execution_count": 5,
      "outputs": [
        {
          "output_type": "stream",
          "name": "stdout",
          "text": [
            "3\n",
            "3\n",
            "12 20 30\n",
            "4\n",
            "6\n",
            "1 9 1 9 8 1\n",
            "3\n",
            "3\n",
            "6 14 15\n",
            "3\n"
          ]
        }
      ]
    }
  ]
}