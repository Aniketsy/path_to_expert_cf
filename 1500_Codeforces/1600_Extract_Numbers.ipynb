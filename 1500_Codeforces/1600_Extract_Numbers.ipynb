{
  "nbformat": 4,
  "nbformat_minor": 0,
  "metadata": {
    "colab": {
      "provenance": []
    },
    "kernelspec": {
      "name": "python3",
      "display_name": "Python 3"
    },
    "language_info": {
      "name": "python"
    }
  },
  "cells": [
    {
      "cell_type": "markdown",
      "source": [
        "               A. Extract Numbers\n",
        "              time limit per test2 seconds\n",
        "              memory limit per test256 megabytes\n",
        "\n",
        "You are given string s. Let's call word any largest sequence of consecutive symbols without symbols ',' (comma) and ';' (semicolon). For example, there are four words in string \"aba,123;1a;0\": \"aba\", \"123\", \"1a\", \"0\". A word can be empty: for example, the string s=\";;\" contains three empty words separated by ';'.\n",
        "\n",
        "You should find all words in the given string that are nonnegative INTEGER numbers without leading zeroes and build by them new string a. String a should contain all words that are numbers separating them by ',' (the order of numbers should remain the same as in the string s). By all other words you should build string b in the same way (the order of numbers should remain the same as in the string s).\n",
        "\n",
        "Here strings \"101\", \"0\" are INTEGER numbers, but \"01\" and \"1.0\" are not.\n",
        "\n",
        "For example, for the string aba,123;1a;0 the string a would be equal to \"123,0\" and string b would be equal to \"aba,1a\".\n",
        "\n",
        "Input\n",
        "The only line of input contains the string s (1 ≤ |s| ≤ 105). The string contains only symbols '.' (ASCII 46), ',' (ASCII 44), ';' (ASCII 59), digits, lowercase and uppercase latin letters.\n",
        "\n",
        "Output\n",
        "Print the string a to the first line and string b to the second line. Each string should be surrounded by quotes (ASCII 34).\n",
        "\n",
        "If there are no words that are numbers print dash (ASCII 45) on the first line. If all words are numbers print dash on the second line.\n",
        "\n",
        "Examples\n",
        "\n",
        "\n",
        "Input\n",
        "\n",
        "aba,123;1a;0\n",
        "\n",
        "Output\n",
        "\n",
        "\"123,0\"\n",
        "\n",
        "\"aba,1a\"\n",
        "\n",
        "\n",
        "Input\n",
        "\n",
        "1;;01,a0,\n",
        "\n",
        "Output\n",
        "\n",
        "\"1\"\n",
        "\n",
        "\",01,a0,\"\n",
        "\n",
        "Input\n",
        "\n",
        "1\n",
        "\n",
        "Output\n",
        "\n",
        "\"1\"\n",
        "\n",
        "-\n",
        "Input\n",
        "\n",
        "a\n",
        "\n",
        "Output\n",
        "\n",
        "-\n",
        "\n",
        "\"a\""
      ],
      "metadata": {
        "id": "VJeTL6doY4W3"
      }
    },
    {
      "cell_type": "code",
      "source": [
        "import re\n",
        "\n",
        "s = input()\n",
        "\n",
        "words = re.split(r'[,;]', s)\n",
        "\n",
        "\n",
        "number_words = []\n",
        "other_words = []\n",
        "\n",
        "\n",
        "for word in words:\n",
        "\n",
        "    if word.isdigit():\n",
        "        if word == '0':\n",
        "            number_words.append(word)\n",
        "        elif word.startswith('0'):\n",
        "            other_words.append(word)\n",
        "        else:\n",
        "            number_words.append(word)\n",
        "    else:\n",
        "        other_words.append(word)\n",
        "\n",
        "\n",
        "a = '\"' + \",\".join(number_words) + '\"' if number_words else \"-\"\n",
        "b = '\"' + \",\".join(other_words) + '\"' if other_words else \"-\"\n",
        "\n",
        "print(a)\n",
        "print(b)"
      ],
      "metadata": {
        "colab": {
          "base_uri": "https://localhost:8080/"
        },
        "id": "D_AC3aeYXt4Z",
        "outputId": "dd64abad-fd9f-4a2a-f709-1f5480160000"
      },
      "execution_count": 6,
      "outputs": [
        {
          "output_type": "stream",
          "name": "stdout",
          "text": [
            "a\n",
            "-\n",
            "\"a\"\n"
          ]
        }
      ]
    }
  ]
}