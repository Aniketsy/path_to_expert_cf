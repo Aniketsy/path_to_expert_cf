{
  "nbformat": 4,
  "nbformat_minor": 0,
  "metadata": {
    "colab": {
      "provenance": []
    },
    "kernelspec": {
      "name": "python3",
      "display_name": "Python 3"
    },
    "language_info": {
      "name": "python"
    }
  },
  "cells": [
    {
      "cell_type": "markdown",
      "source": [
        "Yousef has an array a\n",
        " of size n\n",
        "\n",
        ". He wants to partition the array into one or more contiguous segments such that each element ai\n",
        " belongs to exactly one segment.\n",
        "\n",
        "A partition is called cool if, for every segment bj\n",
        ", all elements in bj\n",
        " also appear in bj+1\n",
        " (if it exists). That is, every element in a segment must also be present in the segment following it.\n",
        "\n",
        "**For example**,\n",
        " if a=[1,2,2,3,1,5]\n",
        ", a cool partition Yousef can make is b1=[1,2]\n",
        ", b2=[2,3,1,5]\n",
        ". This is a cool partition because every element in b1\n",
        " (which are 1\n",
        " and 2\n",
        ") also appears in b2\n",
        ". In contrast, b1=[1,2,2]\n",
        ", b2=[3,1,5]\n",
        " is not a cool partition, since 2\n",
        " appears in b1\n",
        " but not in b2\n",
        ".\n",
        "\n",
        "Note that after partitioning the array, you do not change the order of the segments. Also, note that if an element appears several times in some segment bj\n",
        ", it only needs to appear at least once in bj+1\n",
        ".\n",
        "\n",
        "Your task is to help Yousef by finding the maximum number of segments that make a cool partition.\n",
        "\n",
        "**Input**\n",
        "\n",
        "The first line of the input contains integer t\n",
        " (1≤t≤104\n",
        ") — the number of test cases.\n",
        "\n",
        "The first line of each test case contains an integer n\n",
        " (1≤n≤2⋅105\n",
        ") — the size of the array.\n",
        "\n",
        "The second line of each test case contains n\n",
        " integers a1,a2,…,an\n",
        " (1≤ai≤n\n",
        ") — the elements of the array.\n",
        "\n",
        "It is guaranteed that the sum of n\n",
        " over all test cases doesn't exceed 2⋅105\n",
        ".\n",
        "\n",
        "**Output**\n",
        "\n",
        "For each test case, print one integer — the maximum number of segments that make a cool partition."
      ],
      "metadata": {
        "id": "TUkxpCFq6w4q"
      }
    },
    {
      "cell_type": "markdown",
      "source": [
        "**Initial my thoughts**"
      ],
      "metadata": {
        "id": "OeJlKo4j7D9l"
      }
    },
    {
      "cell_type": "code",
      "source": [
        "from collections import Counter\n",
        "\n",
        "t = int(input())\n",
        "for _ in range(t):\n",
        "    n = int(input())\n",
        "    a = list(map(int, input().split()))\n",
        "\n",
        "    # Find max frequency\n",
        "    freq = max(Counter(a).values())\n",
        "\n",
        "    # Check if sorted (ascending or descending)\n",
        "    if a == sorted(a) or a == sorted(a, reverse=True):\n",
        "        print(\"1\")\n",
        "    else:\n",
        "        print(freq)\n"
      ],
      "metadata": {
        "colab": {
          "base_uri": "https://localhost:8080/"
        },
        "id": "fPS-M_0g5OuZ",
        "outputId": "31495a98-4440-4cbe-89f9-ba188429581c"
      },
      "execution_count": 3,
      "outputs": [
        {
          "output_type": "stream",
          "name": "stdout",
          "text": [
            "8\n",
            "6\n",
            "1 2 2 3 1 5\n",
            "2\n",
            "8\n",
            "1 2 1 3 2 1 3 2\n",
            "3\n",
            "5\n",
            "5 4 3 2 1\n",
            "1\n",
            "10\n",
            "5 8 7 5 8 5 7 8 10 9\n",
            "3\n",
            "3\n",
            "1 2 2\n",
            "1\n",
            "9\n",
            "3 3 1 4 3 2 4 1 2\n",
            "3\n",
            "6\n",
            "4 5 4 5 6 4\n",
            "3\n",
            "8\n",
            "1 2 1 2 1 2 1 2\n",
            "4\n"
          ]
        }
      ]
    },
    {
      "cell_type": "markdown",
      "source": [
        "This gives the wrong answer ...\n",
        "below code is correct one"
      ],
      "metadata": {
        "id": "nv9VefLI6qu4"
      }
    },
    {
      "cell_type": "code",
      "source": [
        "def solve():\n",
        "    n = int(input())\n",
        "    A = list(map(int, input().split()))\n",
        "\n",
        "    # 0-index the values\n",
        "    A = [x - 1 for x in A]\n",
        "\n",
        "    # reverse the array\n",
        "    A.reverse()\n",
        "\n",
        "    N = n\n",
        "    ALL = [0] * N\n",
        "    F = [0] * N\n",
        "\n",
        "    # Count total occurrences\n",
        "    for x in A:\n",
        "        ALL[x] += 1\n",
        "\n",
        "    ANS = 0\n",
        "    p = 0\n",
        "\n",
        "    # Count distinct elements\n",
        "    K = sum(1 for x in ALL if x > 0)\n",
        "\n",
        "    while p < N:\n",
        "        L = p\n",
        "        kind = 0\n",
        "        while kind < K:\n",
        "            x = A[p]\n",
        "            if F[x] == 0:\n",
        "                kind += 1\n",
        "            F[x] += 1\n",
        "            p += 1\n",
        "        R = p\n",
        "        # Reset counts for this segment\n",
        "        for i in range(L, R):\n",
        "            x = A[i]\n",
        "            F[x] = 0\n",
        "            ALL[x] -= 1\n",
        "            if ALL[x] == 0:\n",
        "                K -= 1\n",
        "        ANS += 1\n",
        "\n",
        "    print(ANS)\n",
        "\n",
        "t = int(input())\n",
        "for _ in range(t):\n",
        "    solve()\n"
      ],
      "metadata": {
        "id": "_mrCRe7n_-bK"
      },
      "execution_count": null,
      "outputs": []
    },
    {
      "cell_type": "markdown",
      "source": [
        "We’re trying to split the array into smallest chunks.\n",
        "\n",
        "Each chunk must have all the distinct numbers that still exist in the remaining array.\n",
        "\n",
        "We keep moving a pointer forward until all K numbers are included, then reset for the next segment.\n",
        "\n",
        "The process repeats until we reach the end."
      ],
      "metadata": {
        "id": "QokBT5ZmBCoq"
      }
    }
  ]
}