{
  "nbformat": 4,
  "nbformat_minor": 0,
  "metadata": {
    "colab": {
      "provenance": []
    },
    "kernelspec": {
      "name": "python3",
      "display_name": "Python 3"
    },
    "language_info": {
      "name": "python"
    }
  },
  "cells": [
    {
      "cell_type": "markdown",
      "source": [
        "                    A. Double Perspective\n",
        "\n",
        "For a set of pairs S={(a1,b1),(a2,b2),…,(am,bm)}\n",
        ", where ai<bi\n",
        " for all 1≤i≤m\n",
        ", we define f(S)\n",
        " and g(S)\n",
        " as follows:\n",
        "\n",
        "Treating each (ai,bi)\n",
        " as a segment on the number line, f(S)\n",
        " is the length of their union. Formally, f(S)\n",
        " is the number of integers x\n",
        " such that there exists an i\n",
        " (1≤i≤m\n",
        ") where [x,x+1]⊆[ai,bi]\n",
        ".\n",
        "\n",
        "Treating each (ai,bi)\n",
        " as an undirected edge in a graph, g(S)\n",
        " is the number of nodes that lie on at least one simple cycle with at least 3\n",
        " edges. Formally, g(S)\n",
        " is the number of nodes x1\n",
        " such that there exists a path x1→x2→…→xk→x1\n",
        " in the graph, where k≥3\n",
        " and all x1,x2,…,xk\n",
        " are distinct.\n",
        "For example, S={(1,2),(2,4),(1,4),(4,5),(6,7)}\n",
        ", we can get f(S)=5\n",
        " and g(S)=3\n",
        ".\n",
        "\n",
        "You are given n\n",
        " distinct pairs. Your task is to select a subset S′\n",
        " of these pairs such that f(S′)−g(S′)\n",
        " is maximized. You need to output the indices of the selected pairs."
      ],
      "metadata": {
        "id": "c9R2uxysh-go"
      }
    },
    {
      "cell_type": "code",
      "execution_count": null,
      "metadata": {
        "id": "ntcieAJUh7zV"
      },
      "outputs": [],
      "source": [
        "t = int(input())  # number of test cases\n",
        "\n",
        "for _ in range(t):\n",
        "    n = int(input())  # number of pairs\n",
        "    a = []\n",
        "    b = []\n",
        "    for _ in range(n):\n",
        "        x, y = map(int, input().split())\n",
        "        a.append(x)\n",
        "        b.append(y)\n",
        "\n",
        "    tag = [1] * n  # initially keep all\n",
        "\n",
        "    for i in range(n):\n",
        "        for j in range(n):\n",
        "            if i == j:\n",
        "                continue\n",
        "            if a[j] <= a[i] and b[i] <= b[j]:\n",
        "                tag[i] = 0  # contained inside another\n",
        "                break\n",
        "\n",
        "    ans = [i + 1 for i in range(n) if tag[i] == 1]  # store 1-based indices\n",
        "\n",
        "    print(len(ans))\n",
        "    print(*ans)\n"
      ]
    }
  ]
}