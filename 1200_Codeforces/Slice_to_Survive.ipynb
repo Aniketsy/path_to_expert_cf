{
  "nbformat": 4,
  "nbformat_minor": 0,
  "metadata": {
    "colab": {
      "provenance": []
    },
    "kernelspec": {
      "name": "python3",
      "display_name": "Python 3"
    },
    "language_info": {
      "name": "python"
    }
  },
  "cells": [
    {
      "cell_type": "markdown",
      "source": [
        "**B. Slice to Survive**\n",
        "\n",
        "Duelists Mouf and Fouad enter the arena, which is an n×m\n",
        " grid!\n",
        "\n",
        "Fouad's monster starts at cell (a,b)\n",
        ", where rows are numbered 1\n",
        " to n\n",
        " and columns 1\n",
        " to m\n",
        ".\n",
        "\n",
        "Mouf and Fouad will keep duelling until the grid consists of only one cell.\n",
        "\n",
        "**In each turn:**\n",
        "\n",
        "Mouf first cuts the grid along a row or column line into two parts, discarding the part without Fouad's monster. Note that the grid must have at least two cells; otherwise, the game has already ended.\n",
        "\n",
        "After that, in the same turn, Fouad moves his monster to any cell (possibly the same one it was in) within the remaining grid."
      ],
      "metadata": {
        "id": "OOvkGhd2PlM_"
      }
    },
    {
      "cell_type": "markdown",
      "source": [
        "Mouf wants to minimize the number of turns, while Fouad wants to maximize them. How many turns will this epic duel last if both play optimally?"
      ],
      "metadata": {
        "id": "jITkEHWUPri3"
      }
    },
    {
      "cell_type": "markdown",
      "source": [
        "**Input**\n",
        "\n",
        "Each test contains multiple test cases. The first line contains the number of test cases t\n",
        " (1≤t≤104\n",
        "). The description of the test cases follows.\n",
        "\n",
        "The first and only line of each test case contains four integers n\n",
        ", m\n",
        ", a\n",
        ", and b\n",
        " (2≤n,m≤109\n",
        ", 1≤a≤n\n",
        ", 1≤b≤m\n",
        ") — denoting the number of rows, the number of columns, the starting row of the monster, and the starting column of the monster, respectively.\n",
        "\n",
        "**Output**\n",
        "\n",
        "For each test case, output a single integer — the number of turns this epic duel will last if both play optimally."
      ],
      "metadata": {
        "id": "_FQdktu4PuIN"
      }
    },
    {
      "cell_type": "code",
      "source": [
        "def f_len(L: int) -> int:\n",
        "    \"\"\"Number of combined moves to shrink length L -> 1.\"\"\"\n",
        "    res = 0\n",
        "    while L > 1:\n",
        "        res += 1\n",
        "        # ceil(L / 2)\n",
        "        L = (L + 1) // 2\n",
        "    return res\n",
        "\n",
        "t = int(input())\n",
        "for _ in range(t):\n",
        "    n, m, a, b = map(int, input().split())\n",
        "\n",
        "    candidates = [\n",
        "        (a, m),\n",
        "        (n - a + 1, m),\n",
        "        (n, b),\n",
        "        (n, m - b + 1)\n",
        "    ]\n",
        "\n",
        "    best = 10**9\n",
        "    for n1, m1 in candidates:\n",
        "        cur = f_len(n1) + f_len(m1)\n",
        "        if cur < best:\n",
        "            best = cur\n",
        "\n",
        "    # +1 for the initial Mouf cut\n",
        "    print(1 + best)\n",
        "\n"
      ],
      "metadata": {
        "colab": {
          "base_uri": "https://localhost:8080/"
        },
        "id": "8MhBFe-jPDAk",
        "outputId": "958affaa-752d-42ba-98d7-e1b8250ed38f"
      },
      "execution_count": 3,
      "outputs": [
        {
          "output_type": "stream",
          "name": "stdout",
          "text": [
            "6\n",
            "2 7 2 2\n",
            "3\n",
            "8 9 4 6\n",
            "6\n",
            "9 9 5 5\n",
            "8\n",
            "2 20 2 11\n",
            "6\n",
            "22 99 20 70\n",
            "10\n",
            "2 7 1 4\n",
            "4\n"
          ]
        }
      ]
    }
  ]
}