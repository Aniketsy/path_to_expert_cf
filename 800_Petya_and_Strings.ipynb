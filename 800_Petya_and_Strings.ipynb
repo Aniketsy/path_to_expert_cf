{
  "nbformat": 4,
  "nbformat_minor": 0,
  "metadata": {
    "colab": {
      "provenance": []
    },
    "kernelspec": {
      "name": "python3",
      "display_name": "Python 3"
    },
    "language_info": {
      "name": "python"
    }
  },
  "cells": [
    {
      "cell_type": "markdown",
      "source": [
        "    **A. Petya and Strings**\n",
        "\n",
        "Little Petya loves presents. His mum bought him two strings of the same size for his birthday. The strings consist of uppercase and lowercase Latin letters. Now Petya wants to compare those two strings lexicographically. The letters' case does not matter, that is an uppercase letter is considered equivalent to the corresponding lowercase letter. Help Petya perform the comparison.\n",
        "\n",
        "Input\n",
        "\n",
        "Each of the first two lines contains a bought string. The strings' lengths range from 1 to 100 inclusive. It is guaranteed that the strings are of the same length and also consist of uppercase and lowercase Latin letters.\n",
        "\n",
        "Output\n",
        "\n",
        "If the first string is less than the second one, print \"-1\". If the second string is less than the first one, print \"1\". If the strings are equal, print \"0\". Note that the letters' case is not taken into consideration when the strings are compared.\n",
        "\n",
        "**Examples**\n",
        "\n",
        "**Input**\n",
        "\n",
        "aaaa\n",
        "\n",
        "aaaA\n",
        "\n",
        "**Output**\n",
        "\n",
        "0\n",
        "\n",
        "**Input**\n",
        "\n",
        "abs\n",
        "\n",
        "Abz\n",
        "\n",
        "**Output**\n",
        "\n",
        "-1\n",
        "\n",
        "**Input**\n",
        "\n",
        "abcdefg\n",
        "\n",
        "AbCdEfF\n",
        "\n",
        "**Output**\n",
        "\n",
        "1\n",
        "\n",
        "**Note**\n",
        "If you want more formal information about the lexicographical order (also known as the \"dictionary order\" or \"alphabetical order\"), you can visit the following site:\n",
        "\n",
        "http://en.wikipedia.org/wiki/Lexicographical_order\n"
      ],
      "metadata": {
        "id": "BwrCkeVG39CS"
      }
    },
    {
      "cell_type": "code",
      "source": [
        "a = str(input())\n",
        "b = str(input())\n",
        "\n",
        "# Convert both strings to lowercase\n",
        "a = a.lower()\n",
        "b = b.lower()\n",
        "\n",
        "if (a < b):\n",
        "  print(\"-1\")\n",
        "elif(a > b):\n",
        "  print(\"1\")\n",
        "else:\n",
        "  print(\"0\")\n",
        "\n"
      ],
      "metadata": {
        "colab": {
          "base_uri": "https://localhost:8080/"
        },
        "id": "d7f88kS30dec",
        "outputId": "9f413cb4-8b85-4bd1-bb3d-7bc2b383d43f"
      },
      "execution_count": 5,
      "outputs": [
        {
          "output_type": "stream",
          "name": "stdout",
          "text": [
            "aaaa\n",
            "aaaA\n",
            "0\n"
          ]
        }
      ]
    },
    {
      "cell_type": "markdown",
      "source": [
        "**Alternative**"
      ],
      "metadata": {
        "id": "-5_70Vc17gSj"
      }
    },
    {
      "cell_type": "markdown",
      "source": [
        "This is a helper function named **to_lower** that takes a single character c.\n",
        "\n",
        "**if 'A' <= c <= 'Z':**\n",
        " checks if the character is an uppercase letter using ASCII values.\n",
        "\n",
        "If yes, we convert it to lowercase:\n",
        "\n",
        "**ord(c) gets the ASCII** value of the character.\n",
        "\n",
        "**ord(c) + 32 moves it to the lowercas**e range.\n",
        "\n",
        "For example: ord('A') = 65, 65 + 32 = 97, which is 'a'.\n",
        "\n",
        "**chr(...)** converts the ASCII value back to a **character.**\n",
        "\n",
        "If c is already lowercase or not a letter, it is returned as-is.\n",
        "\n"
      ],
      "metadata": {
        "id": "W-VOvDSR8bYQ"
      }
    },
    {
      "cell_type": "code",
      "source": [
        "s1 = input().strip()\n",
        "s2 = input().strip()\n",
        "\n",
        "def to_lower(c):\n",
        "  if 'A' <= c <= 'Z':\n",
        "    return chr(ord(c) + 32)\n",
        "  return c\n",
        "\n",
        "result = 0\n",
        "for a, b in zip(s1, s2):\n",
        "  # zip(s1, s2) pairs up characters from both strings at the same position.\n",
        "  # for a, b in ... means we iterate through each character pair (a, b) from s1 and s2.\n",
        "    a_lower = to_lower(a)\n",
        "    b_lower = to_lower(b)\n",
        "    if a_lower < b_lower:\n",
        "        result = -1\n",
        "        break\n",
        "    elif a_lower > b_lower:\n",
        "        result = 1\n",
        "        break\n",
        "\n",
        "print(result)\n",
        "\n"
      ],
      "metadata": {
        "colab": {
          "base_uri": "https://localhost:8080/"
        },
        "id": "rhpg7BhO7jNA",
        "outputId": "1483da4b-aada-4ce6-d0ff-4937ba25e1b0"
      },
      "execution_count": 6,
      "outputs": [
        {
          "output_type": "stream",
          "name": "stdout",
          "text": [
            "aaaa\n",
            "aaaA\n",
            "0\n"
          ]
        }
      ]
    }
  ]
}