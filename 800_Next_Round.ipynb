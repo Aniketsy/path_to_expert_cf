{
  "nbformat": 4,
  "nbformat_minor": 0,
  "metadata": {
    "colab": {
      "provenance": []
    },
    "kernelspec": {
      "name": "python3",
      "display_name": "Python 3"
    },
    "language_info": {
      "name": "python"
    }
  },
  "cells": [
    {
      "cell_type": "markdown",
      "source": [
        "\"Contestant who earns a score equal to or greater than the k-th place finisher's score will advance to the next round, as long as the contestant earns a positive score...\" — an excerpt from contest rules.\n",
        "\n",
        "A total of n participants took part in the contest (n ≥ k), and you already know their scores. Calculate how many participants will advance to the next round.\n",
        "\n",
        "**Input**\n",
        "\n",
        "The first line of the input contains two integers n and k (1 ≤ k ≤ n ≤ 50) separated by a single space.\n",
        "\n",
        "The second line contains n space-separated integers a1, a2, ..., an (0 ≤ ai ≤ 100), where ai is the score earned by the participant who got the i-th place. The given sequence is non-increasing (that is, for all i from 1 to n - 1 the following condition is fulfilled: ai ≥ ai + 1).\n",
        "\n",
        "**Output**\n",
        "\n",
        "Output the number of participants who advance to the next round.\n",
        "\n",
        "**Examples**\n",
        "\n",
        "**InputCopy**\n",
        "\n",
        "8 5\n",
        "\n",
        "10 9 8 7 7 7 5 5\n",
        "\n",
        "**OutputCopy**\n",
        "\n",
        "6\n",
        "\n",
        "**InputCopy**\n",
        "\n",
        "4 2\n",
        "\n",
        "0 0 0 0\n",
        "\n",
        "**OutputCopy**\n",
        "\n",
        "0\n",
        "\n",
        "**Note**\n",
        "\n",
        "In the first example the participant on the 5th place earned 7 points. As the participant on the 6th place also earned 7 points, there are 6 advancers.\n",
        "\n",
        "In the second example nobody got a positive score.\n",
        "\n"
      ],
      "metadata": {
        "id": "4MqdP7hy7se7"
      }
    },
    {
      "cell_type": "markdown",
      "source": [
        "--------------------------------------------------------\n",
        "You're given scores of participants in a contest. The rules say:\n",
        "\n",
        "   A participant will advance to the next round if:\n",
        "\n",
        "    Their score is positive, and\n",
        "\n",
        "    Their score is greater than or equal to the score of the k-th place finisher.\n",
        "\n",
        "**Your goal:**\n",
        "\n",
        "Count how many participants will move to the next round based on the rules."
      ],
      "metadata": {
        "id": "6We46-LH8wDu"
      }
    },
    {
      "cell_type": "code",
      "execution_count": 3,
      "metadata": {
        "colab": {
          "base_uri": "https://localhost:8080/"
        },
        "id": "LLTdbmps5Rx_",
        "outputId": "6a416da8-460d-4e22-95d8-4eee33e1ba27"
      },
      "outputs": [
        {
          "output_type": "stream",
          "name": "stdout",
          "text": [
            "8 5\n",
            "10 9 8 7 7 7 5 5\n",
            "6\n"
          ]
        }
      ],
      "source": [
        "n, k = map(int, input().split())\n",
        "scores = list(map(int,input().split()))\n",
        "\n",
        "thresold = scores[k-1]\n",
        "advancer = sum(1 for score in scores if score >= thresold and score >0)\n",
        "\n",
        "print(advancer)"
      ]
    },
    {
      "cell_type": "code",
      "source": [
        "n, k = map(int, input().split())\n",
        "scores = list(map(int, input().split()))\n",
        "\n",
        "threshold = scores[k - 1]\n",
        "count = 0\n",
        "\n",
        "for score in scores:\n",
        "    if score >= threshold and score > 0:\n",
        "        count += 1\n",
        "    else:\n",
        "        break  # Since scores are sorted decreasingly, we can break early\n",
        "\n",
        "print(count)\n"
      ],
      "metadata": {
        "colab": {
          "base_uri": "https://localhost:8080/"
        },
        "id": "A1eVIqV28fD1",
        "outputId": "941775ef-f142-44b8-91ef-576019e39b25"
      },
      "execution_count": 4,
      "outputs": [
        {
          "output_type": "stream",
          "name": "stdout",
          "text": [
            "8 5\n",
            "10 9 8 7 7 7 5 5\n",
            "6\n"
          ]
        }
      ]
    }
  ]
}